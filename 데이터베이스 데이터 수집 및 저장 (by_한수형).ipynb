{
 "cells": [
  {
   "cell_type": "markdown",
   "id": "b4070aff-1253-4dde-8ffc-4694b44a7698",
   "metadata": {
    "tags": []
   },
   "source": [
    "#  데이터베이스 데이터 수집 및 저장 (Mariadb_Mysql)"
   ]
  },
  {
   "cell_type": "markdown",
   "id": "6df63405-8e5e-43ff-942f-cdacff43f3fb",
   "metadata": {},
   "source": [
    "## 상세 내용 NOTION 참고하기"
   ]
  },
  {
   "cell_type": "code",
   "execution_count": null,
   "id": "670ff90a-bef2-45c2-8834-1569c77408df",
   "metadata": {},
   "outputs": [],
   "source": [
    "#라이브러리선언 mysql할때 필요한것들\n",
    "import pandas as pd\n",
    "import pymysql \n",
    "from sqlalchemy import create_engine "
   ]
  },
  {
   "cell_type": "code",
   "execution_count": null,
   "id": "0efe190b-39c8-491b-9326-db33b5b0d48f",
   "metadata": {},
   "outputs": [],
   "source": [
    "#경로설정하여 파일을 불러온다\n",
    "indata = pd.read_csv(\"../stdcode6/dataset/customerdata.csv\")"
   ]
  },
  {
   "cell_type": "code",
   "execution_count": null,
   "id": "98470527-fab9-470e-ad5c-6c62977e8720",
   "metadata": {},
   "outputs": [],
   "source": [
    "#이것만 customer_자기이름  customer_진민호 이런식으로\n",
    "resultname = \"\""
   ]
  },
  {
   "cell_type": "code",
   "execution_count": null,
   "id": "e831d210-99bb-463f-b01e-54a769fa4de9",
   "metadata": {},
   "outputs": [],
   "source": [
    "# DB 커넥션 열기 DB아이디,비밀번호,서버,포트,DB이름\n",
    "# DB 연결할 곳의 정보를 적는다!!! heidisql 세션관리자에 있는 정보들\n",
    "inId = \"\"\n",
    "inPw = \"\"\n",
    "inIp = \"\"\n",
    "inPort =\"\"\n",
    "inDbName = \"\""
   ]
  },
  {
   "cell_type": "code",
   "execution_count": null,
   "id": "c8b919a9-601b-47c6-9ab7-562e032989c7",
   "metadata": {},
   "outputs": [],
   "source": [
    "#여기 포맷은 그대로쓰세요 바뀌는게 없음\n",
    "engine_mariadb = create_engine('mysql+pymysql://{}:{}@{}:{}/{}'.format(inId,inPw,inIp,inPort,inDbName))"
   ]
  },
  {
   "cell_type": "code",
   "execution_count": null,
   "id": "5f1aec8a-092e-4649-84a4-e842610d7fc5",
   "metadata": {},
   "outputs": [
    {
     "data": {
      "text/plain": [
       "150"
      ]
     },
     "execution_count": 7,
     "metadata": {},
     "output_type": "execute_result"
    }
   ],
   "source": [
    "#내가읽어왔던 파일을 넣는부분\n",
    "indata.to_sql(name=resultname, con = engine_mariadb , if_exists = \"replace\" , index = False)"
   ]
  },
  {
   "cell_type": "code",
   "execution_count": null,
   "id": "7fb2bfb3-ecc0-478f-b8a6-673fd8eb65fb",
   "metadata": {},
   "outputs": [],
   "source": [
    "#"
   ]
  }
 ],
 "metadata": {
  "kernelspec": {
   "display_name": "Python 3 (ipykernel)",
   "language": "python",
   "name": "python3"
  },
  "language_info": {
   "codemirror_mode": {
    "name": "ipython",
    "version": 3
   },
   "file_extension": ".py",
   "mimetype": "text/x-python",
   "name": "python",
   "nbconvert_exporter": "python",
   "pygments_lexer": "ipython3",
   "version": "3.9.13"
  }
 },
 "nbformat": 4,
 "nbformat_minor": 5
}
